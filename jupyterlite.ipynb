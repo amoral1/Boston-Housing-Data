{
  "metadata": {
    "kernelspec": {
      "name": "python",
      "display_name": "Python (Pyodide)",
      "language": "python"
    },
    "language_info": {
      "codemirror_mode": {
        "name": "python",
        "version": 3
      },
      "file_extension": ".py",
      "mimetype": "text/x-python",
      "name": "python",
      "nbconvert_exporter": "python",
      "pygments_lexer": "ipython3",
      "version": "3.8"
    }
  },
  "nbformat_minor": 4,
  "nbformat": 4,
  "cells": [
    {
      "cell_type": "markdown",
      "source": "#### Import the required libraries we need for the lab.\n",
      "metadata": {}
    },
    {
      "cell_type": "code",
      "source": "import piplite\nawait piplite.install(['numpy'],['pandas'])\nawait piplite.install(['seaborn'])",
      "metadata": {},
      "outputs": [],
      "execution_count": null
    },
    {
      "cell_type": "code",
      "source": "import pandas as pd\nimport pandas as pd\nimport seaborn as sns\nimport matplotlib.pyplot as pyplot\nimport scipy.stats\nimport statsmodels.api as sm\nfrom statsmodels.formula.api import ols",
      "metadata": {
        "trusted": true
      },
      "outputs": [],
      "execution_count": null
    },
    {
      "cell_type": "markdown",
      "source": "#### Read the dataset in the csv file from the URL\n",
      "metadata": {}
    },
    {
      "cell_type": "code",
      "source": "from js import fetch\nimport io\n\nURL = 'https://cf-courses-data.s3.us.cloud-object-storage.appdomain.cloud/IBMDeveloperSkillsNetwork-ST0151EN-SkillsNetwork/labs/boston_housing.csv'\nresp = await fetch(URL)\nboston_url = io.BytesIO((await resp.arrayBuffer()).to_py())",
      "metadata": {
        "trusted": true
      },
      "outputs": [],
      "execution_count": null
    },
    {
      "cell_type": "code",
      "source": "boston_df=pd.read_csv(boston_url)",
      "metadata": {
        "trusted": true
      },
      "outputs": [],
      "execution_count": null
    },
    {
      "cell_type": "markdown",
      "source": "#### Add your code below following the instructions given in the course to complete the peer graded assignment\n",
      "metadata": {}
    },
    {
      "cell_type": "code",
      "source": "await piplite.install(['seaborn'])\nfrom scipy import stats",
      "metadata": {
        "trusted": true
      },
      "outputs": [],
      "execution_count": null
    },
    {
      "cell_type": "code",
      "source": "# Use a boxplot of median values of owner-occupied houses.\nbxplt = sns.boxplot(y=\"MEDV\",\n                 data=boston_df)\nplt.show()",
      "metadata": {
        "trusted": true
      },
      "outputs": [],
      "execution_count": null
    },
    {
      "cell_type": "markdown",
      "source": "Visualize homes that are/are not bordered by the Charles River.",
      "metadata": {}
    },
    {
      "cell_type": "code",
      "source": "# Count the occurrences of each value in the Charles River variable\ncharles_river_counts = boston_df['CHAS'].value_counts()\ncharles_river_counts.plot(kind='bar', color=['blue', 'orange'])\nplt.xlabel('Borders Charles River (1 = Yes, 0 = No)')\nplt.ylabel('Count of Towns')\nplt.xticks(ticks=[0, 1], labels=['No', 'Yes'], rotation=0)\nplt.show()\n",
      "metadata": {
        "trusted": true
      },
      "outputs": [],
      "execution_count": null
    },
    {
      "cell_type": "markdown",
      "source": "### Is there a significant difference in median value of houses bounded by the Charles river?",
      "metadata": {}
    },
    {
      "cell_type": "markdown",
      "source": "Conduct levene test for significance in order to use a t-test to test\nwhether houses bounded by the Charles River have a significanct difference in median values of owner-occupied homes. \n",
      "metadata": {}
    },
    {
      "cell_type": "code",
      "source": "# Create a histogram to visualize distribution of the 'MEDV' variable - median value of owner-occupied homes.\nax = sns.distplot(boston_df['MEDV'],\n                  bins=20,\n                  kde=True,\n                  color='red',\n                  hist_kws={\"linewidth\": 15,'alpha':1})\nax.set(xlabel='Normal Distribution', ylabel='Frequency')",
      "metadata": {
        "trusted": true
      },
      "outputs": [],
      "execution_count": null
    },
    {
      "cell_type": "markdown",
      "source": "State the Hypothesis:\n*   $H\\_0: µ\\_1 = µ\\_2$ (\"there is no difference in median values of houses bounded by the Charles River\")\n*   $H\\_1: µ\\_1 ≠ µ\\_2$ (\"there is a difference in median values of houses bounded by the Charles River\")\n\n\n(α = 0.05)",
      "metadata": {}
    },
    {
      "cell_type": "code",
      "source": "bound = boston_df[boston_df['CHAS'] == 1]['MEDV']  # Houses bounded by Charles River\nunbound = boston_df[boston_df['CHAS'] == 0] ['MEDV'] #Houses unbounded\nstats.levene(bound, unbound)\n\nstats.ttest_ind(bound, unbound, equal_var=(levene_p > 0.05))",
      "metadata": {
        "trusted": true
      },
      "outputs": [],
      "execution_count": null
    },
    {
      "cell_type": "markdown",
      "source": "**Conclusion:**  The null hypothesis must be rejected as the P-value < 0.05. There is a significant diference in median values of houses bounded by the Charles River. ",
      "metadata": {}
    },
    {
      "cell_type": "markdown",
      "source": "### Is there a difference in Median values of houses for each proportion of owner occupied units built prior to 1940?\nDiscretize units built prior to 1940 into 3 different categories and portray boxplot. ",
      "metadata": {}
    },
    {
      "cell_type": "code",
      "source": "boston_df.loc[(boston_df['AGE'] <=35), 'agegroup'] = '35 years and under'\nboston_df.loc[(boston_df['AGE'] > 35)&(boston_df['AGE'] < 70), 'agegroup'] = 'between 35 and 70 years'\nboston_df.loc[(boston_df['AGE'] >= 70), 'agegroup'] = '70 years and older'\n\n#Box plot of age categories vs. median values \nbxplt = sns.boxplot(x=\"MEDV\", y=\"agegroup\",\n                 data=boston_df)\nplt.show()",
      "metadata": {
        "trusted": true
      },
      "outputs": [],
      "execution_count": null
    },
    {
      "cell_type": "markdown",
      "source": "State the Hypothesis:\n*   $H\\_0: µ\\_1 = µ\\_2$ (\"there is no difference in median values of houses for each proportion of owner occupied units before 1940\")\n*   $H\\_1: µ\\_1 ≠ µ\\_2$ (\"there is a difference in median values of houses for each proportion of owner occupied units before 1940\")\n\n\n(α = 0.05)",
      "metadata": {}
    },
    {
      "cell_type": "code",
      "source": "thirtyfive_lower = boston_df[boston_df['agegroup'] == '35 years and under']['MEDV']\nbtwnthirtyfive_seventy = boston_df[boston_df['agegroup'] == 'between 35 and 70 years']['MEDV']\nseventy_up= boston_df[boston_df['agegroup'] == '70 years and older']['MEDV']\n\nscipy.stats.f_oneway(thirtyfive_lower, btwnthirtyfive_seventy, seventy_up)",
      "metadata": {
        "trusted": true
      },
      "outputs": [],
      "execution_count": null
    },
    {
      "cell_type": "markdown",
      "source": "**Conclusion:** We reject the null hypothesis as the P-value is less than 0.05. There is a difference in median values of houses for each proportion of owner occupied units before 1940.",
      "metadata": {}
    },
    {
      "cell_type": "markdown",
      "source": "### Can we conclude that there is no relationship between Nitric Oxide concentrations and proportion of non-retail business acres per town? \nUse a scatter plot to visualize the two continuous variables.",
      "metadata": {}
    },
    {
      "cell_type": "code",
      "source": "sns.scatterplot(x=\"INDUS\", y=\"NOX\", data=boston_df)",
      "metadata": {
        "trusted": true
      },
      "outputs": [],
      "execution_count": null
    },
    {
      "cell_type": "markdown",
      "source": "*   $H\\_0:$ There is not a relationship between Nitric Oxide concentrations and propotion of non-retail business acres per town\n*   $H\\_1:$ There is a relationship between Nitric Oxide concentrations and propotion of non-retail business acres per town",
      "metadata": {}
    },
    {
      "cell_type": "markdown",
      "source": "Use the Pearson Correlation method to test the relationship between the two variables:",
      "metadata": {}
    },
    {
      "cell_type": "code",
      "source": "scipy.stats.pearsonr(boston_df['INDUS'], boston_df['NOX'])",
      "metadata": {
        "trusted": true
      },
      "outputs": [],
      "execution_count": null
    },
    {
      "cell_type": "markdown",
      "source": "**Conclusion:** The Pearson coefficient is 0.7636 and greater than α, which means we fail to reject the null hypothesis and there is an association between the two Nitric oxide concentrations and the prpotion of non-retail business acres per town. ",
      "metadata": {}
    },
    {
      "cell_type": "markdown",
      "source": "### What is the impact of an additional weighted distance  to the five Boston employment centres on the median value of owner occupied homes? (Regression analysis)\n\n",
      "metadata": {}
    },
    {
      "cell_type": "markdown",
      "source": "*   $H\\_0: β1$ = 0 There is no impact from distance to the five Boston on median values of homes\n*   $H\\_1: β1$ is not equal to 0 (There is an impact from distance to the employment centres on the median values of homes)",
      "metadata": {}
    },
    {
      "cell_type": "code",
      "source": "X = boston_df['DIS']\ny = boston_df['MEDV']\nX = sm.add_constant(X) \n\nmodel = sm.OLS(y, X).fit()\npredictions = model.predict(X)\n# Print out the statistics\nmodel.summary()",
      "metadata": {
        "trusted": true
      },
      "outputs": [],
      "execution_count": null
    },
    {
      "cell_type": "markdown",
      "source": "**Conclusion:** The p-value < (α) level = 0.05, so we reject the null hypothesis, as there is evidence that there is an impact on median values of houses according to their distance to employment centers. The coefficient articulates that additional weighted distance to the five Boston employment centers the median value of homes decreased the values by $1,091.6.",
      "metadata": {}
    }
  ]
}